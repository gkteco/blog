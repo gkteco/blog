{
 "cells": [
  {
   "cell_type": "code",
   "execution_count": null,
   "metadata": {},
   "outputs": [],
   "source": [
    "#| hide\n",
    "from blog.core import *"
   ]
  },
  {
   "cell_type": "markdown",
   "metadata": {},
   "source": [
    "# Gianni Crivello's Blog\n",
    "\n",
    "> A space for me to share my thoughts, projects, ideas, and learnings. \n",
    "\n"
   ]
  },
  {
   "cell_type": "markdown",
   "metadata": {},
   "source": [
    "\n",
    "## Introduction\n",
    "\n",
    "Hi! My name is Gianni Crivello and I'm a Customer Engineer (or Solutions Architect, Solutions Engineer? IDK, it depends on the company you ask). I love solving problems and building things. My background is in AI / ML, but I'm a bit of a generalist - I enjoy leanring about compilers, operating systems, and other low-level system stuff. I currently work at [Techolution](https://www.techolution.com/) helping our customers solve hard problems and build great products. \n",
    "\n",
    "Join me in exploring the world of software engineering, AI, and ML. On this blog, you'll find walkthroughs of things I find interesting, as well as the occasional rant. You'll see that most of the tone here will be an exploratory one, as most of the content here is me documenting my own learning and conclusions. My views are my own - if you have different ones, I'd love to hear them! \n",
    "\n",
    "This blog uses a wonderful system called [nbdev](https://nbdev.fast.ai/) which creates a [literate programming](https://en.wikipedia.org/wiki/Literate_programming) environment which makes it pretty easy to take live code and turn it into a blog post."
   ]
  },
  {
   "cell_type": "markdown",
   "metadata": {},
   "source": [
    "## This blog is pip-installable!\n",
    "\n",
    "Belive it or not, you can install this blog using pip, thanks to [nbdev](https://nbdev.fast.ai/)! If you want use any of the abstractions you read about, you may do so in your own codebase through `pip` (you can also clone the repo and run the notebooks locally). What other notebooks do you know that can be pip-installed? Pretty cool, huh? "
   ]
  },
  {
   "cell_type": "markdown",
   "metadata": {},
   "source": [
    "## Installation\n",
    "```sh\n",
    "pip install blog\n",
    "```"
   ]
  },
  {
   "cell_type": "code",
   "execution_count": null,
   "metadata": {},
   "outputs": [],
   "source": []
  },
  {
   "cell_type": "code",
   "execution_count": null,
   "metadata": {},
   "outputs": [],
   "source": []
  },
  {
   "cell_type": "code",
   "execution_count": null,
   "metadata": {},
   "outputs": [],
   "source": [
    "\n"
   ]
  },
  {
   "cell_type": "code",
   "execution_count": null,
   "metadata": {},
   "outputs": [],
   "source": []
  },
  {
   "cell_type": "code",
   "execution_count": null,
   "metadata": {},
   "outputs": [],
   "source": []
  },
  {
   "cell_type": "code",
   "execution_count": null,
   "metadata": {},
   "outputs": [],
   "source": []
  },
  {
   "cell_type": "code",
   "execution_count": null,
   "metadata": {},
   "outputs": [],
   "source": []
  },
  {
   "cell_type": "code",
   "execution_count": null,
   "metadata": {},
   "outputs": [],
   "source": []
  },
  {
   "cell_type": "code",
   "execution_count": null,
   "metadata": {},
   "outputs": [],
   "source": []
  },
  {
   "cell_type": "code",
   "execution_count": null,
   "metadata": {},
   "outputs": [],
   "source": []
  },
  {
   "cell_type": "code",
   "execution_count": null,
   "metadata": {},
   "outputs": [],
   "source": []
  }
 ],
 "metadata": {
  "kernelspec": {
   "display_name": "python3",
   "language": "python",
   "name": "python3"
  }
 },
 "nbformat": 4,
 "nbformat_minor": 4
}
