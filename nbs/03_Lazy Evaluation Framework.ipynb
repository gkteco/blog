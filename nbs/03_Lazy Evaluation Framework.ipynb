{
 "cells": [
  {
   "cell_type": "code",
   "execution_count": 1,
   "metadata": {},
   "outputs": [],
   "source": [
    "#| default_exp LazyEvaluationFramework"
   ]
  },
  {
   "cell_type": "markdown",
   "metadata": {},
   "source": [
    "# A Framework for Lazy Evaluation of Language Models\n",
    "\n",
    "\n",
    "## Introduction\n",
    "\n",
    "In the rapidly evolving landscape of artificial intelligence, large language models (LLMs) have emerged as powerful tools for a wide range of applications, from content creation to complex problem-solving. We've seen wide application adoption for using language models as \"assistants\" for various domains, such as health care, education, content creation, and more. However, in educational contexts, these models often fall short of providing an optimal learning experience. They tend to generate complete solutions upfront, robbing students of the opportunity to engage in the step-by-step reasoning process that is crucial for deep understanding. The question that arises is, \"can we get these systems to evaluate in a 'Socratic' way?\". That is, can we get these systems to evaluate in a way that encourages the student to think step-by-step, rather than generating a complete solution upfront? \n",
    "\n",
    "There is a lot of work around having LLMs reason step-by-step (add source) but to my knowledge, there isn't an existing framework to build systems that allow the user to think step-by-step, through a problem while have the LLM assist in a pedagogical way. This is where the concept of \"lazy evaluation\" in language models comes into play, offering a more Socratic approach to AI-assisted tasks.\n",
    "\n",
    "This blog post demonstrates an approach to building a framework for forcing models to evaluate in a lazy way."
   ]
  },
  {
   "cell_type": "markdown",
   "metadata": {},
   "source": [
    "## Motivation\n",
    "\n",
    "The motivation behind implementing lazy evaluation in language models stems from several key observations:\n",
    "\n",
    "- *Pedagogical Effectiveness:* Traditional tutoring methods often involve guiding students through problems step-by-step, allowing them to think critically and make connections on their own. AI tutors should aim to replicate this approach rather than simply providing answers.\n",
    "\n",
    "- *Resource Efficiency:* Generating complete solutions upfront is computationally expensive, especially for complex problems. A lazy evaluation approach can significantly reduce resource usage by generating only the necessary information on demand.\n",
    "\n",
    "- *Adaptability:* Students have varying levels of understanding and may require different amounts of guidance. A lazy evaluation system can essentially adapt to each student's needs, providing more or less detail as required.\n",
    "\n",
    "- *Engagement:* By revealing information gradually, we can maintain student engagement and encourage active participation in the problem-solving process.\n",
    "\n",
    "- *Real-world Problem Solving:* In many real-world scenarios, solutions are not immediately apparent and must be approached incrementally. Training students to think in this way prepares them for challenges beyond the classroom."
   ]
  },
  {
   "cell_type": "markdown",
   "metadata": {},
   "source": [
    "## A note on lazy evaluation\n",
    "\n",
    "The concept of lazy evaluation is well-established in programming languages, where it refers to the practice of delaying the evaluation of an expression until its value is actually needed. By applying this principle to language models in an educational context, we can create AI tutors that guide students through problems more naturally and effectively."
   ]
  },
  {
   "cell_type": "code",
   "execution_count": 46,
   "metadata": {},
   "outputs": [],
   "source": [
    "#| hide\n",
    "#| export\n",
    "from dotenv import load_dotenv\n",
    "import os\n",
    "from anthropic import AnthropicVertex\n",
    "from anthropic.types import (\n",
    "    MessageParam,\n",
    "    Message\n",
    ")\n",
    "from fastcore.basics import *\n",
    "from fastcore.test import *\n",
    "from fastcore.foundation import *\n",
    "from dataclasses import (\n",
    "    dataclass,\n",
    "    field\n",
    ")\n",
    "from typing import (\n",
    "    List,\n",
    "    Optional\n",
    ")\n",
    "from nbdev.showdoc import show_doc\n"
   ]
  },
  {
   "cell_type": "code",
   "execution_count": 10,
   "metadata": {},
   "outputs": [
    {
     "data": {
      "text/plain": [
       "True"
      ]
     },
     "execution_count": 10,
     "metadata": {},
     "output_type": "execute_result"
    }
   ],
   "source": [
    "#| hide\n",
    "load_dotenv()"
   ]
  },
  {
   "cell_type": "code",
   "execution_count": 11,
   "metadata": {},
   "outputs": [
    {
     "data": {
      "text/plain": [
       "('ce-demo-space', 'us-east5', 'claude-3-5-sonnet@20240620')"
      ]
     },
     "execution_count": 11,
     "metadata": {},
     "output_type": "execute_result"
    }
   ],
   "source": [
    "#| hide\n",
    "project_id = os.getenv(\"CLAUDE_PROJECT_ID\")\n",
    "location = os.getenv(\"PROJECT_LOCATION\")\n",
    "model = os.getenv(\"CLAUDE_MODEL\")\n",
    "\n",
    "(project_id, location, model)"
   ]
  },
  {
   "cell_type": "markdown",
   "metadata": {},
   "source": [
    "We first start by creating a `Lazy State` class, which will be used to keep track of the problem, steps, and the current step"
   ]
  },
  {
   "cell_type": "code",
   "execution_count": 125,
   "metadata": {},
   "outputs": [],
   "source": [
    "#|export\n",
    "\n",
    "@dataclass\n",
    "class LazyState:\n",
    "    problem: str\n",
    "    steps: List[str] = field(default_factory=list)\n",
    "    current_step: int = 0\n",
    "\n",
    "    def __post_init__(self):\n",
    "        self.steps.append(self.problem)\n",
    "\n",
    "    def add_step(self, step: str):\n",
    "        self.steps.append(step)\n",
    "        self.current_step += 1\n",
    "\n",
    "    def get_context(self) -> str:\n",
    "        return f\"Problem: {self.problem} \\n Steps so far: {self.steps}\"\n",
    "\n",
    "    def refresh(self) -> None:\n",
    "        self.current_step = 0\n",
    "        self.steps = [self.problem]"
   ]
  },
  {
   "cell_type": "code",
   "execution_count": 126,
   "metadata": {},
   "outputs": [
    {
     "data": {
      "text/plain": [
       "LazyState(problem='What is the result of f(x) = 3x + 2 when x = 5?', steps=['What is the result of f(x) = 3x + 2 when x = 5?', 'First, we need substitute x in the function with 5'], current_step=1)"
      ]
     },
     "execution_count": 126,
     "metadata": {},
     "output_type": "execute_result"
    }
   ],
   "source": [
    "state = LazyState(problem=\"What is the result of f(x) = 3x + 2 when x = 5?\")\n",
    "state.add_step(\"First, we need substitute x in the function with 5\")\n",
    "state"
   ]
  },
  {
   "cell_type": "code",
   "execution_count": 102,
   "metadata": {},
   "outputs": [
    {
     "data": {
      "text/plain": [
       "\"Problem: What is the result of f(x) = 3x + 2 when x = 5? \\n Steps so far: ['What is the result of f(x) = 3x + 2 when x = 5?', 'First, we need substitute x in the function with 5']\""
      ]
     },
     "execution_count": 102,
     "metadata": {},
     "output_type": "execute_result"
    }
   ],
   "source": [
    "state.get_context()"
   ]
  },
  {
   "cell_type": "markdown",
   "metadata": {},
   "source": [
    "With this simple state manager, we have a way to track each step of the problem-solving process and get the current context to be used for a call to a language model.\n",
    "\n",
    "Now, let's set up a class `LazyEvaluationClient` that will do the heavy lifting of managing the state and calling the language model."
   ]
  },
  {
   "cell_type": "code",
   "execution_count": 61,
   "metadata": {},
   "outputs": [],
   "source": [
    "#| export\n",
    "@dataclass\n",
    "class LLM:\n",
    "    client: AnthropicVertex\n",
    "    model: str"
   ]
  },
  {
   "cell_type": "code",
   "execution_count": 175,
   "metadata": {},
   "outputs": [],
   "source": [
    "#| export\n",
    "system = \"\"\"\n",
    "        You are a helpful assistant that can help with math problems.\n",
    "        You will be given a problem and a list of steps as context, the format will be:\n",
    "                \n",
    "        PROBLEM: <problem>\n",
    "        STEPS: <steps>\n",
    "\n",
    "        Your job is to complete the next step and only the next step in the problem-solving process. You should never give more than one step.\n",
    "        If you evaluate that the problem is done, respond with \"PROBLEM DONE\"\n",
    "        \"\"\""
   ]
  },
  {
   "cell_type": "code",
   "execution_count": 158,
   "metadata": {},
   "outputs": [],
   "source": [
    "#| export\n",
    "class LazyEvaluationClient:\n",
    "    \"\"\"The Lazy Evaluation Client\"\"\"\n",
    "    def __init__(self, \n",
    "                 llm: LLM, # the language model to use, see `LLM` class\n",
    "                 max_tokens: int = 100, # the maximum number of tokens to generate\n",
    "                 state: Optional[LazyState] = None\n",
    "                ):\n",
    "        self.model = llm.model\n",
    "        self.client = llm.client\n",
    "        self.max_tokens = max_tokens\n",
    "        self.state = state\n",
    "        self.system = system\n",
    "        self.question_history = []\n",
    "\n",
    "    def initalize_problem(self, problem: str) -> None:\n",
    "        self.state = LazyState(problem=problem)\n",
    "    \n",
    "    def get_current_step(self) -> str:\n",
    "        return self.state.steps[self.state.current_step]\n",
    "    \n",
    "    def get_next_step(self) -> str:\n",
    "        if self.state is None:\n",
    "            raise ValueError(\"Problem is not initialized, call initalize_problem first\")\n",
    "\n",
    "        messages: List[MessageParam] = [\n",
    "            {\n",
    "                \"role\": \"user\",\n",
    "                \"content\": self.state.get_context()\n",
    "            }\n",
    "        ]\n",
    "\n",
    "        response: Message = self.client.messages.create(\n",
    "            system=system,\n",
    "            model=self.model,\n",
    "            messages=messages,\n",
    "            max_tokens=self.max_tokens\n",
    "        )\n",
    "        next_step = response.content[0].text\n",
    "        if next_step is not None:\n",
    "            self.state.add_step(next_step.strip())\n",
    "            return next_step.strip()\n",
    "        else:\n",
    "            raise ValueError(\"No next step found\") "
   ]
  },
  {
   "cell_type": "code",
   "execution_count": 142,
   "metadata": {},
   "outputs": [
    {
     "data": {
      "text/markdown": [
       "---\n",
       "\n",
       "### LazyEvaluationClient\n",
       "\n",
       ">      LazyEvaluationClient (llm:__main__.LLM, max_tokens:int=100,\n",
       ">                            state:Optional[__main__.LazyState]=None)\n",
       "\n",
       "*The Lazy Evaluation Client*\n",
       "\n",
       "|    | **Type** | **Default** | **Details** |\n",
       "| -- | -------- | ----------- | ----------- |\n",
       "| llm | LLM |  | the language model to use, see `LLM` class |\n",
       "| max_tokens | int | 100 | the maximum number of tokens to generate |\n",
       "| state | Optional | None |  |"
      ],
      "text/plain": [
       "---\n",
       "\n",
       "### LazyEvaluationClient\n",
       "\n",
       ">      LazyEvaluationClient (llm:__main__.LLM, max_tokens:int=100,\n",
       ">                            state:Optional[__main__.LazyState]=None)\n",
       "\n",
       "*The Lazy Evaluation Client*\n",
       "\n",
       "|    | **Type** | **Default** | **Details** |\n",
       "| -- | -------- | ----------- | ----------- |\n",
       "| llm | LLM |  | the language model to use, see `LLM` class |\n",
       "| max_tokens | int | 100 | the maximum number of tokens to generate |\n",
       "| state | Optional | None |  |"
      ]
     },
     "execution_count": 142,
     "metadata": {},
     "output_type": "execute_result"
    }
   ],
   "source": [
    "show_doc(LazyEvaluationClient)"
   ]
  },
  {
   "cell_type": "markdown",
   "metadata": {},
   "source": [
    "Now that we have this basic machinery in place, let's see the system in action with our previous problem"
   ]
  },
  {
   "cell_type": "markdown",
   "metadata": {},
   "source": [
    "As a recap, here is our problem:\n"
   ]
  },
  {
   "cell_type": "code",
   "execution_count": 143,
   "metadata": {},
   "outputs": [
    {
     "name": "stdout",
     "output_type": "stream",
     "text": [
      "What is the result of f(x) = 3x + 2 when x = 5?\n",
      "The next step in solving this problem is to substitute the given value of x into the function f(x). Let's do that:\n",
      "\n",
      "Step: Substitute x = 5 into the function f(x) = 3x + 2\n",
      "\n",
      "f(5) = 3(5) + 2\n",
      "\n",
      "This step replaces all instances of x in the function with the given value of 5. This sets us up to perform the calculations in the next step.\n",
      "The next step in solving this problem is to perform the multiplication inside the parentheses:\n",
      "\n",
      "Step: Calculate 3(5)\n",
      "\n",
      "f(5) = 3(5) + 2\n",
      "f(5) = 15 + 2\n",
      "\n",
      "In this step, we multiply 3 by 5, which gives us 15. This simplifies our equation, leaving us with a simple addition to complete in the next step.\n",
      "The next step in solving this problem is to perform the final addition:\n",
      "\n",
      "Step: Calculate 15 + 2\n",
      "\n",
      "f(5) = 15 + 2\n",
      "f(5) = 17\n",
      "\n",
      "In this step, we add 15 and 2, which gives us the final result of 17. This completes the calculation of f(5).\n",
      "The next step in this problem-solving process is to state the final answer:\n",
      "\n",
      "Step: State the final result\n",
      "\n",
      "The result of f(x) = 3x + 2 when x = 5 is 17.\n",
      "\n",
      "This step concludes the problem by clearly stating the final answer we calculated in the previous steps.\n",
      "PROBLEM DONE\n"
     ]
    }
   ],
   "source": [
    "for step in state.steps:\n",
    "    print(step)"
   ]
  },
  {
   "cell_type": "markdown",
   "metadata": {},
   "source": [
    "Now, let's set up our client"
   ]
  },
  {
   "cell_type": "code",
   "execution_count": 144,
   "metadata": {},
   "outputs": [],
   "source": [
    "client = AnthropicVertex(project_id=project_id, region=location)\n",
    "llm = LLM(client=client, model=model)\n",
    "lazy_lm = LazyEvaluationClient(llm=llm, state=state)"
   ]
  },
  {
   "cell_type": "markdown",
   "metadata": {},
   "source": [
    "We can see what the current step our model is on:"
   ]
  },
  {
   "cell_type": "code",
   "execution_count": 145,
   "metadata": {},
   "outputs": [
    {
     "data": {
      "text/plain": [
       "'PROBLEM DONE'"
      ]
     },
     "execution_count": 145,
     "metadata": {},
     "output_type": "execute_result"
    }
   ],
   "source": [
    "lazy_lm.get_current_step()"
   ]
  },
  {
   "cell_type": "markdown",
   "metadata": {},
   "source": [
    "Now, let's have our model generate the next step"
   ]
  },
  {
   "cell_type": "code",
   "execution_count": 146,
   "metadata": {},
   "outputs": [
    {
     "data": {
      "text/plain": [
       "'PROBLEM DONE'"
      ]
     },
     "execution_count": 146,
     "metadata": {},
     "output_type": "execute_result"
    }
   ],
   "source": [
    "lazy_lm.get_next_step()"
   ]
  },
  {
   "cell_type": "markdown",
   "metadata": {},
   "source": [
    "Finally, let's continue calling the model until we reach the end of our problem"
   ]
  },
  {
   "cell_type": "code",
   "execution_count": 108,
   "metadata": {},
   "outputs": [
    {
     "name": "stdout",
     "output_type": "stream",
     "text": [
      "The next step in solving this problem would be to evaluate the expression after substitution. So, the next step is:\n",
      "\n",
      "Evaluate f(5) = 3(5) + 2:\n",
      "f(5) = 15 + 2\n",
      "The next step in solving this problem would be to perform the final calculation. So, the next step is:\n",
      "\n",
      "Calculate the final result:\n",
      "f(5) = 15 + 2 = 17\n",
      "The next step in this problem-solving process would be to state the final answer. So, the next step is:\n",
      "\n",
      "Therefore, the result of f(x) = 3x + 2 when x = 5 is 17.\n",
      "Problem solved!\n"
     ]
    }
   ],
   "source": [
    "while True:\n",
    "    next_step = lazy_lm.get_next_step()\n",
    "    if next_step == \"PROBLEM DONE\":\n",
    "        print(\"Problem solved!\")\n",
    "        break\n",
    "    print(next_step)"
   ]
  },
  {
   "cell_type": "code",
   "execution_count": 159,
   "metadata": {},
   "outputs": [],
   "source": [
    "#| export\n",
    "@patch\n",
    "def ask_question(self:LazyEvaluationClient, question:str) -> Message:\n",
    "    \"\"\"\n",
    "    Allows the user to ask a question about the current step without affecting the model's ability to generate the next step.\n",
    "    \n",
    "    Args:\n",
    "    question (str): The question the user wants to ask about the current step.\n",
    "    \n",
    "    Returns:\n",
    "    str: The model's response to the question.\n",
    "    \"\"\"\n",
    "\n",
    "    current_state = f\"\"\"\n",
    "        System: {self.system}\n",
    "        Problem: {self.state.problem}\\n\n",
    "        Context: {self.state.get_context()}\n",
    "        Current step: {self.state.steps[self.state.current_step]}\n",
    "    \"\"\"\n",
    "    prompt = f\"\"\"\n",
    "        Question History: {self.question_history}\n",
    "        Question: {question}\\n\n",
    "        Please answer the question without advancing to the next step.\n",
    "        If you are asked to provide an example for a specific step, please provide an example that is not in the current context.\n",
    "    \"\"\"\n",
    "\n",
    "    messages: List[MessageParam] = [\n",
    "        {\n",
    "            \"role\": \"user\",\n",
    "            \"content\": prompt\n",
    "        }\n",
    "    ]\n",
    "\n",
    "    response: Message = self.client.messages.create(\n",
    "            system=current_state,\n",
    "            model=self.model,\n",
    "            messages=messages,\n",
    "            max_tokens=self.max_tokens\n",
    "        )\n",
    "    self.question_history.append(question)\n",
    "    self.question_history.append(response.content[0].text.strip())\n",
    "    \n",
    "    return response.content[0].text.strip()\n"
   ]
  },
  {
   "cell_type": "markdown",
   "metadata": {},
   "source": [
    "We now have a way to take the current reasoning step and query it without having the model advance to the next step in the problem-solving process."
   ]
  },
  {
   "cell_type": "code",
   "execution_count": 160,
   "metadata": {},
   "outputs": [
    {
     "data": {
      "text/plain": [
       "LazyState(problem='What is the result of f(x) = 3x + 2 when x = 5?', steps=['What is the result of f(x) = 3x + 2 when x = 5?'], current_step=0)"
      ]
     },
     "execution_count": 160,
     "metadata": {},
     "output_type": "execute_result"
    }
   ],
   "source": [
    "state.refresh()\n",
    "state"
   ]
  },
  {
   "cell_type": "code",
   "execution_count": 161,
   "metadata": {},
   "outputs": [
    {
     "data": {
      "text/plain": [
       "'What is the result of f(x) = 3x + 2 when x = 5?'"
      ]
     },
     "execution_count": 161,
     "metadata": {},
     "output_type": "execute_result"
    }
   ],
   "source": [
    "lazy_lm = LazyEvaluationClient(llm=llm, state=state)\n",
    "lazy_lm.get_current_step()"
   ]
  },
  {
   "cell_type": "code",
   "execution_count": 162,
   "metadata": {},
   "outputs": [
    {
     "data": {
      "text/plain": [
       "'The next step in solving this problem is to substitute the given value of x into the function.\\n\\nStep: Substitute x = 5 into the function f(x) = 3x + 2'"
      ]
     },
     "execution_count": 162,
     "metadata": {},
     "output_type": "execute_result"
    }
   ],
   "source": [
    "lazy_lm.get_next_step()"
   ]
  },
  {
   "cell_type": "code",
   "execution_count": 163,
   "metadata": {},
   "outputs": [
    {
     "data": {
      "text/plain": [
       "\"Substitution is a mathematical technique where we replace a variable in an equation or expression with a specific value or another expression. It's a fundamental concept in algebra and is used to solve equations, evaluate functions, and simplify expressions.\\n\\nIn the context of functions, substitution involves replacing the variable (usually x) with a given value to calculate the function's output for that specific input.\\n\\nFor example (not related to the current problem):\\nIf we have a function g(x)\""
      ]
     },
     "execution_count": 163,
     "metadata": {},
     "output_type": "execute_result"
    }
   ],
   "source": [
    "lazy_lm.ask_question(\"what is substitution?\")"
   ]
  },
  {
   "cell_type": "code",
   "execution_count": 164,
   "metadata": {},
   "outputs": [
    {
     "data": {
      "text/plain": [
       "\"Certainly! I'll provide an example of substitution that's not related to the current problem.\\n\\nLet's consider a different function: h(x) = x² - 4x + 7\\n\\nIf we want to find the value of h(3), we would substitute x with 3:\\n\\nh(3) = 3² - 4(3) + 7\\n\\nNow we can calculate:\\nh(3) = 9 - 12\""
      ]
     },
     "execution_count": 164,
     "metadata": {},
     "output_type": "execute_result"
    }
   ],
   "source": [
    "lazy_lm.ask_question(\"give me an example\")"
   ]
  },
  {
   "cell_type": "code",
   "execution_count": 165,
   "metadata": {},
   "outputs": [
    {
     "data": {
      "text/plain": [
       "'The next step is to perform the calculation using the substituted value:\\n\\nStep: Calculate f(5) = 3(5) + 2'"
      ]
     },
     "execution_count": 165,
     "metadata": {},
     "output_type": "execute_result"
    }
   ],
   "source": [
    "lazy_lm.get_next_step()"
   ]
  },
  {
   "cell_type": "markdown",
   "metadata": {},
   "source": [
    "Now let's put this all together in a simple loop:"
   ]
  },
  {
   "cell_type": "code",
   "execution_count": 157,
   "metadata": {},
   "outputs": [
    {
     "name": "stdout",
     "output_type": "stream",
     "text": [
      "-------------------------------------------------\n",
      "User asked for next step\n",
      "-------------------------------------------------\n",
      "Next step: The next step in solving this problem is to substitute the given value of x into the function. Here's the step:\n",
      "\n",
      "Substitute x = 5 into the function f(x) = 3x + 2\n",
      "\n",
      "This step sets up the equation for us to solve in the following steps.\n",
      "-------------------------------------------------\n",
      "User asked for next step\n",
      "-------------------------------------------------\n",
      "Next step: The next step in solving this problem is to perform the substitution and write out the resulting equation. Here's the step:\n",
      "\n",
      "Replace x with 5 in the equation:\n",
      "f(5) = 3(5) + 2\n",
      "\n",
      "This step shows us the function with the specific value of x we're working with, preparing us for the final calculations.\n",
      "-------------------------------------------------\n",
      "User Question: what is substitution?\n",
      "-------------------------------------------------\n",
      "Model Answer: Substitution is a mathematical technique where you replace a variable in an equation or expression with a specific value or another expression. It's a fundamental concept in algebra and is used to solve equations, simplify expressions, or evaluate functions.\n",
      "\n",
      "In the context of functions, substitution involves replacing the variable (often x) with a given value to determine the function's output for that specific input.\n",
      "\n",
      "For example (not related to the current problem):\n",
      "If we have a function g(x)\n",
      "-------------------------------------------------\n",
      "User Question: can you provide an example?\n",
      "-------------------------------------------------\n",
      "Model Answer: Certainly! I'd be happy to provide an example of substituting a value into a function without using the current problem. Here's a different example:\n",
      "\n",
      "Let's say we have a function g(y) = 2y² - 4y + 1, and we want to find the value when y = 3.\n",
      "\n",
      "The step of substituting the value would look like this:\n",
      "\n",
      "g(3) = 2(3)² - 4(3)\n",
      "-------------------------------------------------\n",
      "User Question: can you finish the example?\n",
      "-------------------------------------------------\n",
      "Model Answer: Certainly! I'd be happy to provide an example of performing a substitution and writing out the resulting equation, but using a different function than the one in the current context.\n",
      "\n",
      "Let's consider a different function: g(x) = 2x² - 4x + 1\n",
      "\n",
      "If we want to find g(3), we would substitute x = 3 into the function. Here's how that step would look:\n",
      "\n",
      "Replace x with 3 in the equation\n",
      "-------------------------------------------------\n",
      "User asked for next step\n",
      "-------------------------------------------------\n",
      "Next step: The next step in solving this problem is to perform the multiplication inside the parentheses. Here's the step:\n",
      "\n",
      "Calculate 3(5):\n",
      "f(5) = 3(5) + 2\n",
      "f(5) = 15 + 2\n",
      "\n",
      "This step simplifies the expression by carrying out the multiplication, bringing us closer to the final result.\n",
      "-------------------------------------------------\n",
      "User Question: what is the 3(15) syntax mean?\n",
      "-------------------------------------------------\n",
      "Model Answer: The syntax 3(15) in the current context is actually incorrect. I apologize for the confusion. Let me clarify:\n",
      "\n",
      "In the current step, we have:\n",
      "f(5) = 3(5) + 2\n",
      "f(5) = 15 + 2\n",
      "\n",
      "Here, 3(5) means 3 multiplied by 5. The parentheses are used to indicate multiplication. It's equivalent to writing 3 ×\n",
      "-------------------------------------------------\n",
      "User asked for next step\n",
      "-------------------------------------------------\n",
      "Next step: The next step in solving this problem is to perform the final addition. Here's the step:\n",
      "\n",
      "Calculate 15 + 2:\n",
      "f(5) = 15 + 2\n",
      "f(5) = 17\n",
      "\n",
      "This step completes the calculation, giving us the final result of the function when x = 5.\n",
      "-------------------------------------------------\n",
      "User asked for next step\n",
      "-------------------------------------------------\n",
      "Next step: The next step in this problem-solving process is to state the final answer clearly. Here's the step:\n",
      "\n",
      "Therefore, the result of f(x) = 3x + 2 when x = 5 is 17.\n",
      "\n",
      "This step concludes the problem by explicitly stating the answer to the original question.\n",
      "-------------------------------------------------\n",
      "User asked for next step\n",
      "Problem solved!\n"
     ]
    }
   ],
   "source": [
    "while True:\n",
    "    user_input = input(\"Enter a question or command: \")\n",
    "    if user_input in [\"next\", \"n\"]:\n",
    "        print(\"-------------------------------------------------\")\n",
    "        print(\"User asked for next step\")\n",
    "        next_step = lazy_lm.get_next_step()\n",
    "        if next_step == \"PROBLEM DONE\":\n",
    "            print(\"Problem solved!\")\n",
    "            break\n",
    "        print(\"-------------------------------------------------\")\n",
    "        print(f\"Next step: {next_step}\")\n",
    "    elif user_input in [\"question\", \"q\"]:\n",
    "        user_question = input(\"Enter your question: \")\n",
    "        r = lazy_lm.ask_question(user_question)\n",
    "        print(\"-------------------------------------------------\")\n",
    "        print(f\"User Question: {user_question}\")\n",
    "        print(\"-------------------------------------------------\")\n",
    "        print(f\"Model Answer: {r}\")"
   ]
  },
  {
   "cell_type": "markdown",
   "metadata": {},
   "source": [
    "## The Lazy Evaluation Flow \n",
    "\n",
    "This simple framework effectivly shows how we can wrape a language model capable of step-by-step reasoning to create a lazy evaluator.\n",
    "\n",
    "This approach follows these system design steps:\n",
    "\n",
    "- Problem Initialization: A state manager is initalized with a problem\n",
    "\n",
    "- Prompting Strategy: Prompt the language model to generate the next step given the context in the state manager.\n",
    "\n",
    "- State Update: State Manager records the newly generated step and updates.\n",
    "\n",
    "- User Interaction: User interaction is held within a different state manager `question_history` which does not affect the overall state of the current problem.\n",
    "\n",
    "- Adaptive Response: Based on the current input, the Lazy Evaluator decides to either 1) Generate the next step or 2) Provide a response to the user's question given the current state of the problem and the question history.\n"
   ]
  },
  {
   "cell_type": "markdown",
   "metadata": {},
   "source": [
    "To tie everything together, let's now add a `patch` to the `AnthropicVertex` client to allow users of the framework to have a single entry point into what we can call \"lazy mode\"."
   ]
  },
  {
   "cell_type": "code",
   "execution_count": 170,
   "metadata": {},
   "outputs": [],
   "source": [
    "#| export\n",
    "@patch\n",
    "def lazy(self: AnthropicVertex, problem: str) -> LazyEvaluationClient:\n",
    "    \"\"\"\n",
    "    Initialize a lazy evaluation client with a problem\n",
    "    \"\"\"\n",
    "    state = LazyState(problem=problem)\n",
    "    llm = LLM(client=self, model=model)\n",
    "    return LazyEvaluationClient(llm=llm, state=state)"
   ]
  },
  {
   "cell_type": "code",
   "execution_count": 172,
   "metadata": {},
   "outputs": [],
   "source": [
    "client = AnthropicVertex(project_id=project_id, region=location)\n",
    "lazy_lm = client.lazy(\"What is the result of f(x) = 3x + 2 when x = 5?\")"
   ]
  },
  {
   "cell_type": "code",
   "execution_count": 173,
   "metadata": {},
   "outputs": [
    {
     "data": {
      "text/plain": [
       "'What is the result of f(x) = 3x + 2 when x = 5?'"
      ]
     },
     "execution_count": 173,
     "metadata": {},
     "output_type": "execute_result"
    }
   ],
   "source": [
    "lazy_lm.get_current_step()"
   ]
  },
  {
   "cell_type": "code",
   "execution_count": 174,
   "metadata": {},
   "outputs": [
    {
     "data": {
      "text/plain": [
       "\"To solve this problem, we need to substitute x with 5 in the given function. Let's do that in the next step:\\n\\nReplace x with 5 in the function f(x) = 3x + 2\\n\\nThis step sets up the equation for us to solve in the following steps.\""
      ]
     },
     "execution_count": 174,
     "metadata": {},
     "output_type": "execute_result"
    }
   ],
   "source": [
    "lazy_lm.get_next_step()"
   ]
  },
  {
   "cell_type": "code",
   "execution_count": null,
   "metadata": {},
   "outputs": [],
   "source": []
  },
  {
   "cell_type": "code",
   "execution_count": null,
   "metadata": {},
   "outputs": [],
   "source": []
  },
  {
   "cell_type": "code",
   "execution_count": null,
   "metadata": {},
   "outputs": [],
   "source": []
  },
  {
   "cell_type": "code",
   "execution_count": null,
   "metadata": {},
   "outputs": [],
   "source": []
  }
 ],
 "metadata": {
  "kernelspec": {
   "display_name": "dev",
   "language": "python",
   "name": "python3"
  },
  "language_info": {
   "codemirror_mode": {
    "name": "ipython",
    "version": 3
   },
   "file_extension": ".py",
   "mimetype": "text/x-python",
   "name": "python",
   "nbconvert_exporter": "python",
   "pygments_lexer": "ipython3",
   "version": "3.10.14"
  }
 },
 "nbformat": 4,
 "nbformat_minor": 2
}
